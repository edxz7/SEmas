{
 "cells": [
  {
   "cell_type": "code",
   "execution_count": 1,
   "metadata": {},
   "outputs": [],
   "source": [
    "import pandas as pd\n",
    "class clusterization:\n",
    "    \n",
    "    def __init__(self,data):\n",
    "        self.data = data\n",
    "        self.groupdum(data)\n",
    "    \n",
    "    def groupdum(self, data):\n",
    "        data['DateTime']=pd.to_datetime(data['DateTime'],format='%Y-%m-%d %H:%M:%S')\n",
    "        dummies=pd.get_dummies(data.category,drop_first=False)\n",
    "        piped=pd.concat([data, dummies],axis=1)\n",
    "        self.group(piped)\n",
    "             \n",
    "    def group(self,piped):\n",
    "        self.piped_group=piped.groupby(['DateTime', 'Transaction']).sum()\n",
    "        self.piped_group.reset_index(level='DateTime', inplace=True)\n",
    "        self.piped_group['day']=self.piped_group.DateTime.dt.day_name()\n",
    "        self.piped_group['hour']=self.piped_group.DateTime.dt.hour\n",
    "        piped_dummy=pd.get_dummies(data=self.piped_group, columns=['day']).drop('DateTime', axis=1)\n",
    "        self.pca(piped_dummy)\n",
    "\n",
    "    def pca(self,piped_dummy):\n",
    "        from sklearn.decomposition import PCA\n",
    "        pca=PCA(n_components=4).fit_transform(piped_dummy)\n",
    "        pc_df=pd.DataFrame(pca, columns=[f'pc_{i+1}' for i in range(4)])\n",
    "        self.pc_df=pc_df\n",
    "        self.cluster(pc_df)\n",
    "        \n",
    "    def cluster(self,pc_df):\n",
    "        from sklearn.cluster import KMeans\n",
    "        kmeans=KMeans(n_clusters=4).fit(pc_df)\n",
    "        self.outputgroup(kmeans,pc_df)\n",
    "        \n",
    "    def outputgroup(self,kmeans,pc_df):\n",
    "        import seaborn as sns\n",
    "        cm=sns.light_palette('green', as_cmap=True)\n",
    "        self.piped_group['label']=kmeans.predict(pc_df)\n",
    "        piped_merge=pipe.merge(self.piped_group.reset_index()[['label', 'Transaction']],on='Transaction', how='left')\n",
    "        display(pd.crosstab(self.piped_group.hour, self.piped_group.label).style.background_gradient(cmap=cm))\n",
    "        display(pd.crosstab(self.piped_group.day, self.piped_group.label).style.background_gradient(cmap=cm))\n",
    "        self.outputbest(piped_merge)\n",
    "            \n",
    "    def outputbest(self,piped_merge):\n",
    "        display(piped_merge.groupby('label')['Item'].value_counts().to_frame('counts').reset_index().set_index('Item').groupby('label')['counts'].nlargest(10))\n",
    "\n"
   ]
  },
  {
   "cell_type": "code",
   "execution_count": 1,
   "metadata": {},
   "outputs": [
    {
     "ename": "NameError",
     "evalue": "name 'pd' is not defined",
     "output_type": "error",
     "traceback": [
      "\u001b[0;31m------------------------------------------\u001b[0m",
      "\u001b[0;31mNameError\u001b[0mTraceback (most recent call last)",
      "\u001b[0;32m<ipython-input-1-cb34414cbe64>\u001b[0m in \u001b[0;36m<module>\u001b[0;34m\u001b[0m\n\u001b[0;32m----> 1\u001b[0;31m \u001b[0mpipe\u001b[0m\u001b[0;34m=\u001b[0m\u001b[0mpd\u001b[0m\u001b[0;34m.\u001b[0m\u001b[0mread_csv\u001b[0m\u001b[0;34m(\u001b[0m\u001b[0;34m\"./muestra6dias.csv\"\u001b[0m\u001b[0;34m)\u001b[0m\u001b[0;34m\u001b[0m\u001b[0;34m\u001b[0m\u001b[0m\n\u001b[0m\u001b[1;32m      2\u001b[0m \u001b[0;31m#clusterization(pipe)\u001b[0m\u001b[0;34m\u001b[0m\u001b[0;34m\u001b[0m\u001b[0;34m\u001b[0m\u001b[0m\n",
      "\u001b[0;31mNameError\u001b[0m: name 'pd' is not defined"
     ]
    }
   ],
   "source": [
    "pipe=pd.read_csv(\"./muestra6dias.csv\")\n",
    "clusterization(pipe)"
   ]
  },
  {
   "cell_type": "code",
   "execution_count": 3,
   "metadata": {},
   "outputs": [
    {
     "data": {
      "text/html": [
       "<div>\n",
       "<style scoped>\n",
       "    .dataframe tbody tr th:only-of-type {\n",
       "        vertical-align: middle;\n",
       "    }\n",
       "\n",
       "    .dataframe tbody tr th {\n",
       "        vertical-align: top;\n",
       "    }\n",
       "\n",
       "    .dataframe thead th {\n",
       "        text-align: right;\n",
       "    }\n",
       "</style>\n",
       "<table border=\"1\" class=\"dataframe\">\n",
       "  <thead>\n",
       "    <tr style=\"text-align: right;\">\n",
       "      <th></th>\n",
       "      <th>DateTime</th>\n",
       "      <th>category</th>\n",
       "      <th>Item</th>\n",
       "      <th>Transaction</th>\n",
       "    </tr>\n",
       "  </thead>\n",
       "  <tbody>\n",
       "    <tr>\n",
       "      <th>0</th>\n",
       "      <td>2017-01-04 09:23:25</td>\n",
       "      <td>beverage</td>\n",
       "      <td>Coffee</td>\n",
       "      <td>4140</td>\n",
       "    </tr>\n",
       "  </tbody>\n",
       "</table>\n",
       "</div>"
      ],
      "text/plain": [
       "              DateTime  category    Item  Transaction\n",
       "0  2017-01-04 09:23:25  beverage  Coffee         4140"
      ]
     },
     "execution_count": 3,
     "metadata": {},
     "output_type": "execute_result"
    }
   ],
   "source": [
    "import pandas as pd\n",
    "data = pd.read_csv('muestra6dias.csv')\n",
    "data.head(1)"
   ]
  },
  {
   "cell_type": "code",
   "execution_count": 6,
   "metadata": {},
   "outputs": [
    {
     "data": {
      "text/plain": [
       "0     2017-01-04 09:23:25\n",
       "1     2017-01-04 09:51:00\n",
       "2     2017-01-04 09:51:00\n",
       "3     2017-01-04 09:51:00\n",
       "4     2017-01-04 10:14:41\n",
       "5     2017-01-04 10:14:41\n",
       "6     2017-01-04 10:14:41\n",
       "7     2017-01-04 10:14:41\n",
       "8     2017-01-04 10:16:03\n",
       "9     2017-01-04 10:17:00\n",
       "10    2017-01-04 10:17:00\n",
       "11    2017-01-04 10:17:00\n",
       "12    2017-01-04 10:33:20\n",
       "13    2017-01-04 10:56:18\n",
       "14    2017-01-04 10:56:18\n",
       "15    2017-01-04 10:59:23\n",
       "16    2017-01-04 11:13:07\n",
       "17    2017-01-04 11:13:07\n",
       "18    2017-01-04 11:23:45\n",
       "19    2017-01-04 11:23:45\n",
       "20    2017-01-04 11:28:36\n",
       "21    2017-01-04 11:38:55\n",
       "22    2017-01-04 11:38:55\n",
       "23    2017-01-04 11:54:02\n",
       "24    2017-01-04 11:54:02\n",
       "25    2017-01-04 11:56:17\n",
       "26    2017-01-04 11:56:17\n",
       "27    2017-01-04 12:11:01\n",
       "28    2017-01-04 12:11:01\n",
       "29    2017-01-04 12:13:39\n",
       "              ...        \n",
       "605   2017-01-09 12:57:18\n",
       "606   2017-01-09 12:57:18\n",
       "607   2017-01-09 12:57:18\n",
       "608   2017-01-09 12:57:18\n",
       "609   2017-01-09 12:57:18\n",
       "610   2017-01-09 13:00:30\n",
       "611   2017-01-09 13:17:37\n",
       "612   2017-01-09 13:17:37\n",
       "613   2017-01-09 13:17:37\n",
       "614   2017-01-09 13:39:04\n",
       "615   2017-01-09 13:39:04\n",
       "616   2017-01-09 13:40:31\n",
       "617   2017-01-09 13:40:31\n",
       "618   2017-01-09 13:44:30\n",
       "619   2017-01-09 14:00:11\n",
       "620   2017-01-09 14:00:11\n",
       "621   2017-01-09 14:30:11\n",
       "622   2017-01-09 14:30:11\n",
       "623   2017-01-09 14:48:23\n",
       "624   2017-01-09 14:52:01\n",
       "625   2017-01-09 14:52:01\n",
       "626   2017-01-09 14:52:01\n",
       "627   2017-01-09 14:52:01\n",
       "628   2017-01-09 15:13:04\n",
       "629   2017-01-09 15:13:04\n",
       "630   2017-01-09 15:13:04\n",
       "631   2017-01-09 15:57:35\n",
       "632   2017-01-09 15:57:35\n",
       "633   2017-01-09 16:28:56\n",
       "634   2017-01-09 16:28:56\n",
       "Name: DateTime, Length: 635, dtype: datetime64[ns]"
      ]
     },
     "execution_count": 6,
     "metadata": {},
     "output_type": "execute_result"
    }
   ],
   "source": [
    "data['DateTime'] = pd.to_datetime(data['DateTime'], format='%Y-%m-%d %H:%M:%S')"
   ]
  },
  {
   "cell_type": "code",
   "execution_count": null,
   "metadata": {},
   "outputs": [],
   "source": []
  }
 ],
 "metadata": {
  "kernelspec": {
   "display_name": "Python 3",
   "language": "python",
   "name": "python3"
  },
  "language_info": {
   "codemirror_mode": {
    "name": "ipython",
    "version": 3
   },
   "file_extension": ".py",
   "mimetype": "text/x-python",
   "name": "python",
   "nbconvert_exporter": "python",
   "pygments_lexer": "ipython3",
   "version": "3.7.3"
  }
 },
 "nbformat": 4,
 "nbformat_minor": 2
}
