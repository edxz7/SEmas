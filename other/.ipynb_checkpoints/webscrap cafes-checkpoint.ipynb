{
 "cells": [
  {
   "cell_type": "code",
   "execution_count": 1,
   "metadata": {},
   "outputs": [],
   "source": [
    "import requests\n",
    "from bs4 import BeautifulSoup as bs"
   ]
  },
  {
   "cell_type": "code",
   "execution_count": 2,
   "metadata": {},
   "outputs": [
    {
     "ename": "TypeError",
     "evalue": "my_func() takes 2 positional arguments but 3 were given",
     "output_type": "error",
     "traceback": [
      "\u001b[0;31m------------------------------------------\u001b[0m",
      "\u001b[0;31mTypeError\u001b[0mTraceback (most recent call last)",
      "\u001b[0;32m<ipython-input-2-99bb3348d2d5>\u001b[0m in \u001b[0;36m<module>\u001b[0;34m\u001b[0m\n\u001b[1;32m      1\u001b[0m \u001b[0;32mdef\u001b[0m \u001b[0mmy_func\u001b[0m\u001b[0;34m(\u001b[0m\u001b[0mn1\u001b[0m\u001b[0;34m,\u001b[0m \u001b[0mn2\u001b[0m\u001b[0;34m)\u001b[0m\u001b[0;34m:\u001b[0m\u001b[0;34m\u001b[0m\u001b[0;34m\u001b[0m\u001b[0m\n\u001b[1;32m      2\u001b[0m        \u001b[0;32mreturn\u001b[0m \u001b[0mn1\u001b[0m \u001b[0;34m+\u001b[0m \u001b[0mn2\u001b[0m\u001b[0;34m\u001b[0m\u001b[0;34m\u001b[0m\u001b[0m\n\u001b[0;32m----> 3\u001b[0;31m \u001b[0mmy_func\u001b[0m\u001b[0;34m(\u001b[0m\u001b[0;36m1\u001b[0m\u001b[0;34m,\u001b[0m \u001b[0;36m2\u001b[0m\u001b[0;34m,\u001b[0m \u001b[0;36m3\u001b[0m\u001b[0;34m)\u001b[0m\u001b[0;34m\u001b[0m\u001b[0;34m\u001b[0m\u001b[0m\n\u001b[0m",
      "\u001b[0;31mTypeError\u001b[0m: my_func() takes 2 positional arguments but 3 were given"
     ]
    }
   ],
   "source": [
    " def my_func(n1, n2): \n",
    "        return n1 + n2 \n",
    "my_func(1, 2, 3)"
   ]
  },
  {
   "cell_type": "code",
   "execution_count": 2,
   "metadata": {},
   "outputs": [],
   "source": [
    "url='http://chiquititocafe.com/menu'\n",
    "html=requests.get(url).content\n",
    "soup=bs(html, 'html.parser')"
   ]
  },
  {
   "cell_type": "code",
   "execution_count": 3,
   "metadata": {},
   "outputs": [],
   "source": [
    "cafe= soup.find_all('div', class_ = 'menu-item-title')"
   ]
  },
  {
   "cell_type": "code",
   "execution_count": 4,
   "metadata": {},
   "outputs": [],
   "source": [
    "precios = soup.find_all('span', class_ = 'menu-item-price-top')"
   ]
  },
  {
   "cell_type": "code",
   "execution_count": 5,
   "metadata": {},
   "outputs": [],
   "source": [
    "nombres = [i.text for i in cafe]"
   ]
  },
  {
   "cell_type": "code",
   "execution_count": 25,
   "metadata": {},
   "outputs": [],
   "source": [
    "totales = [i.text for i in precios]"
   ]
  },
  {
   "cell_type": "code",
   "execution_count": 28,
   "metadata": {},
   "outputs": [],
   "source": [
    "res = list(map(lambda sub:int(''.join([ele for ele in sub if ele.isnumeric()])), totales)) "
   ]
  },
  {
   "cell_type": "code",
   "execution_count": 37,
   "metadata": {},
   "outputs": [],
   "source": [
    "nombres_con_precio = zip(nombres, res)"
   ]
  },
  {
   "cell_type": "code",
   "execution_count": 38,
   "metadata": {},
   "outputs": [],
   "source": [
    "nombres_con_precio = list(nombres_con_precio)"
   ]
  },
  {
   "cell_type": "code",
   "execution_count": 39,
   "metadata": {},
   "outputs": [
    {
     "data": {
      "text/plain": [
       "[('espresso', 30),\n",
       " ('espresso cortado', 35),\n",
       " ('espresso americano', 34),\n",
       " ('cappuccino', 38),\n",
       " ('latte', 40),\n",
       " ('latte vainilla', 45),\n",
       " ('latte caramelo', 45),\n",
       " ('mocha', 45),\n",
       " ('café con leche', 38),\n",
       " ('café de la casa', 30),\n",
       " ('CHIQUITITO', 37),\n",
       " ('carga extra de espresso', 10),\n",
       " ('café descafeinado', 6),\n",
       " ('soya, arroz, almendra, coco', 10),\n",
       " ('leche deslactosada/deslactosada light', 5),\n",
       " ('vainilla, caramelo, chocolate', 6),\n",
       " ('aeropress', 37),\n",
       " ('pour over (v/60)', 37),\n",
       " ('chemex', 40),\n",
       " ('prensa francesa', 40),\n",
       " ('chocolate caliente', 43),\n",
       " ('chai latte', 48),\n",
       " ('chai vainilla', 48),\n",
       " ('chai espresso', 53),\n",
       " ('matcha latte', 48),\n",
       " ('iced coffee (cold brew)', 40),\n",
       " ('latte', 46),\n",
       " ('mocha', 50),\n",
       " ('chai', 53),\n",
       " ('chocolate', 48),\n",
       " ('cappuccino', 55),\n",
       " ('mocha', 55),\n",
       " ('chocolate blanco', 55),\n",
       " ('vainilla', 55),\n",
       " ('caramelo', 55),\n",
       " ('chai', 55),\n",
       " ('Baguette, tomates rojos, mozzarella fresca y pesto', 80),\n",
       " ('Ciabatta, queso de cabra, tapenade y pepino', 75),\n",
       " ('Pan de granos, hummus, arúgula', 80),\n",
       " ('Pan de granos, aguacate, queso feta, chile seco, aceite de oliva, sal de mar',\n",
       "  85),\n",
       " ('Pan blanco, jamón de pavo, panela, tomate, lechuga y chipotle', 85),\n",
       " ('Croissant, jamón de pavo y queso', 55),\n",
       " ('Molletes', 55),\n",
       " ('Ingrediente extra', 7),\n",
       " ('croissant', 20),\n",
       " ('chocolatín', 20),\n",
       " ('conchas de chocolate y vainilla', 20),\n",
       " ('brownie', 30),\n",
       " ('panqué de plátano', 30),\n",
       " ('panqué de limón y cardamomo', 30),\n",
       " ('muffin de zanahoria', 24),\n",
       " ('galletas de nuez', 29),\n",
       " ('pay de limón', 42),\n",
       " ('gelatina de queso', 40),\n",
       " ('vasito con yoghurt, moras y granola', 42),\n",
       " ('gajos de toronja', 30),\n",
       " ('refrescos', 20),\n",
       " ('orangina', 30),\n",
       " ('perrier', 30),\n",
       " ('agua de coco', 25)]"
      ]
     },
     "execution_count": 39,
     "metadata": {},
     "output_type": "execute_result"
    }
   ],
   "source": [
    "nombres_con_precio"
   ]
  },
  {
   "cell_type": "code",
   "execution_count": null,
   "metadata": {},
   "outputs": [],
   "source": []
  }
 ],
 "metadata": {
  "kernelspec": {
   "display_name": "Python 3",
   "language": "python",
   "name": "python3"
  },
  "language_info": {
   "codemirror_mode": {
    "name": "ipython",
    "version": 3
   },
   "file_extension": ".py",
   "mimetype": "text/x-python",
   "name": "python",
   "nbconvert_exporter": "python",
   "pygments_lexer": "ipython3",
   "version": "3.7.3"
  }
 },
 "nbformat": 4,
 "nbformat_minor": 2
}
